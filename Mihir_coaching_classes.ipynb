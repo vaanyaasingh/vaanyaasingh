{
  "nbformat": 4,
  "nbformat_minor": 0,
  "metadata": {
    "colab": {
      "private_outputs": true,
      "provenance": [],
      "authorship_tag": "ABX9TyOeutpOAIzdJujOCnuNBtzr",
      "include_colab_link": true
    },
    "kernelspec": {
      "name": "python3",
      "display_name": "Python 3"
    },
    "language_info": {
      "name": "python"
    }
  },
  "cells": [
    {
      "cell_type": "markdown",
      "metadata": {
        "id": "view-in-github",
        "colab_type": "text"
      },
      "source": [
        "<a href=\"https://colab.research.google.com/github/vaanyaasingh/vaanyaasingh/blob/main/Mihir_coaching_classes.ipynb\" target=\"_parent\"><img src=\"https://colab.research.google.com/assets/colab-badge.svg\" alt=\"Open In Colab\"/></a>"
      ]
    },
    {
      "cell_type": "code",
      "execution_count": null,
      "metadata": {
        "id": "SjeVLx2miMK9"
      },
      "outputs": [],
      "source": [
        "a=input('enter a string')\n",
        "a1=sorted(a) \n",
        "a2=''.join(a1)\n",
        "afinal = ''\n",
        "afinal+= a2[0]\n",
        "temp = a2[0]\n",
        "l=1\n",
        "while(l<len(a2)):\n",
        "  if temp == a2[l]:\n",
        "    l+=1\n",
        "    continue\n",
        "  else:\n",
        "    afinal= afinal + a2[l]\n",
        "    temp = a2[l]\n",
        "    l+=1\n",
        "\n",
        "print(afinal)"
      ]
    },
    {
      "cell_type": "code",
      "source": [
        "num = int(input('enter num '))\n",
        "while(True):\n",
        "  if num == 1:\n",
        "    break\n",
        "  if num%2==0:\n",
        "    num = num/2\n",
        "    print(num)\n",
        "  elif num%2 != 0:\n",
        "    num = (num * 3) + 1\n",
        "    print(num)\n",
        "\n"
      ],
      "metadata": {
        "id": "XzM3HbdBj3hj"
      },
      "execution_count": null,
      "outputs": []
    },
    {
      "cell_type": "code",
      "source": [
        "num = int(input('enter num '))\n",
        "temp = 0\n",
        "while(temp<num):\n",
        "  if \n"
      ],
      "metadata": {
        "id": "EUz0FuaVsike"
      },
      "execution_count": null,
      "outputs": []
    }
  ]
}